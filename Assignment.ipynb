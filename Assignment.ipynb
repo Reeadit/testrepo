{
  "metadata": {
    "language_info": {
      "codemirror_mode": {
        "name": "python",
        "version": 3
      },
      "file_extension": ".py",
      "mimetype": "text/x-python",
      "name": "python",
      "nbconvert_exporter": "python",
      "pygments_lexer": "ipython3",
      "version": "3.8"
    },
    "kernelspec": {
      "name": "python",
      "display_name": "Pyolite",
      "language": "python"
    }
  },
  "nbformat_minor": 4,
  "nbformat": 4,
  "cells": [
    {
      "cell_type": "markdown",
      "source": "## IBM Watson Studio",
      "metadata": {
        "tags": []
      }
    },
    {
      "cell_type": "markdown",
      "source": "# IBM Watson Studio",
      "metadata": {}
    },
    {
      "cell_type": "markdown",
      "source": "<br>__Reena__ </br>\ncurrently Engineer , Desired Data scientist",
      "metadata": {}
    },
    {
      "cell_type": "markdown",
      "source": "_I am interested in data science because i want to change my carrer_",
      "metadata": {}
    },
    {
      "cell_type": "markdown",
      "source": "### Adding two numbers below",
      "metadata": {}
    },
    {
      "cell_type": "code",
      "source": "2+3",
      "metadata": {
        "trusted": true
      },
      "execution_count": 5,
      "outputs": [
        {
          "execution_count": 5,
          "output_type": "execute_result",
          "data": {
            "text/plain": "5"
          },
          "metadata": {}
        }
      ]
    },
    {
      "cell_type": "markdown",
      "source": "1. FirstNumber\n2. SecondNumber\n3. ThirdNumber\n\n- FirstBullet\n- SecondBullet\n\n~~Strike~~",
      "metadata": {}
    },
    {
      "cell_type": "code",
      "source": "",
      "metadata": {},
      "execution_count": null,
      "outputs": []
    }
  ]
}